{
 "cells": [
  {
   "cell_type": "code",
   "execution_count": 1,
   "metadata": {},
   "outputs": [],
   "source": [
    "%reset -f\n",
    "import os\n",
    "import numpy as np\n",
    "import torch\n",
    "from torch.utils.data import DataLoader\n",
    "from torchvision.transforms import ToTensor, Normalize, Compose"
   ]
  },
  {
   "cell_type": "code",
   "execution_count": 2,
   "metadata": {},
   "outputs": [],
   "source": [
    "from scripts.mnistParity import MNISTParityVertical, MNISTParityHorizontal\n",
    "from scripts.architecture import MLP\n",
    "from scripts.train_utils import accuracy\n",
    "from scripts.train import train_epoch, train_model, test_model\n",
    "from scripts.plot_utils import plot_loss_accuracy"
   ]
  },
  {
   "cell_type": "code",
   "execution_count": 3,
   "metadata": {},
   "outputs": [
    {
     "name": "stdout",
     "output_type": "stream",
     "text": [
      "1.8.1+cu102\n"
     ]
    }
   ],
   "source": [
    "print(torch.__version__)"
   ]
  },
  {
   "cell_type": "markdown",
   "metadata": {},
   "source": [
    "## Create Parity Data Iterator"
   ]
  },
  {
   "cell_type": "markdown",
   "metadata": {},
   "source": [
    "### Vertical"
   ]
  },
  {
   "cell_type": "code",
   "execution_count": 4,
   "metadata": {},
   "outputs": [],
   "source": [
    "transforms = Compose([\n",
    "    ToTensor(),\n",
    "    Normalize((0.1307,), (0.3081,))\n",
    "])"
   ]
  },
  {
   "cell_type": "code",
   "execution_count": null,
   "metadata": {},
   "outputs": [],
   "source": [
    "parityData2 = MNISTParityVertical(2, transforms = transforms)\n",
    "parityData2.plotRandomData()"
   ]
  },
  {
   "cell_type": "code",
   "execution_count": null,
   "metadata": {},
   "outputs": [],
   "source": [
    "trainloaderParity2 = DataLoader(parityData2.trainset, batch_size=128, shuffle=True)\n",
    "testloaderParity2 = DataLoader(parityData2.testset, batch_size=128, shuffle=True)"
   ]
  },
  {
   "cell_type": "markdown",
   "metadata": {},
   "source": [
    "### Neural Network Part"
   ]
  },
  {
   "cell_type": "code",
   "execution_count": null,
   "metadata": {},
   "outputs": [],
   "source": [
    "#def myHingeLoss(y, yhat):\n",
    "#    return torch.max(1-yhat*y, 0)"
   ]
  },
  {
   "cell_type": "code",
   "execution_count": null,
   "metadata": {},
   "outputs": [],
   "source": [
    "inputShape0, inputShape1 = parityData2.trainset.data[0].shape\n",
    "print(inputShape0 * inputShape1)"
   ]
  },
  {
   "cell_type": "code",
   "execution_count": null,
   "metadata": {},
   "outputs": [],
   "source": [
    "learn_rate = 0.1 # for SGD\n",
    "num_epochs = 20\n",
    "loss_fn = torch.nn.CrossEntropyLoss()"
   ]
  },
  {
   "cell_type": "code",
   "execution_count": null,
   "metadata": {},
   "outputs": [],
   "source": [
    "model = MLP(inputShape0,inputShape1)\n",
    "optimizer = torch.optim.Adadelta(model.parameters(), lr=learn_rate, weight_decay = 0.01)\n",
    "\n",
    "trainLostList, trainAccList, valLossList, valAccList  = train_model(model, trainloaderParity2, testloaderParity2, loss_fn, \n",
    "                                                                    optimizer, num_epochs, validate_model = True,\n",
    "                                                                    performance=accuracy)\n"
   ]
  },
  {
   "cell_type": "code",
   "execution_count": null,
   "metadata": {},
   "outputs": [],
   "source": [
    "test_model(model, testloaderParity2, loss_fn = loss_fn)"
   ]
  },
  {
   "cell_type": "code",
   "execution_count": null,
   "metadata": {},
   "outputs": [],
   "source": [
    "plot_loss_accuracy(trainLostList,valLossList,trainAccList,valAccList,num_epochs)"
   ]
  },
  {
   "cell_type": "markdown",
   "metadata": {},
   "source": [
    "### For k = 3"
   ]
  },
  {
   "cell_type": "code",
   "execution_count": null,
   "metadata": {},
   "outputs": [],
   "source": [
    "parityData3 = MNISTParityVertical(3, transforms = transforms)\n",
    "\n",
    "parityData3.plotRandomData()\n",
    "\n",
    "trainloaderParity3 = DataLoader(parityData3.trainset, batch_size=128, shuffle=True)\n",
    "testloaderParity3 = DataLoader(parityData3.testset, batch_size=128, shuffle=True)"
   ]
  },
  {
   "cell_type": "code",
   "execution_count": null,
   "metadata": {},
   "outputs": [],
   "source": [
    "inputShape0, inputShape1 = parityData3.trainset.data[0].shape\n",
    "print(inputShape0 * inputShape1)\n",
    "model2 = MLP(inputShape0, inputShape1)\n",
    "optimizer = torch.optim.Adadelta(model2.parameters(), lr=learn_rate, weight_decay = 0.01)\n",
    "\n",
    "trainLostList, trainAccList, valLossList, valAccList  = train_model(model2, trainloaderParity3, testloaderParity3, loss_fn, \n",
    "                                                                    optimizer, num_epochs, validate_model = True,\n",
    "                                                                    performance=accuracy)"
   ]
  },
  {
   "cell_type": "code",
   "execution_count": null,
   "metadata": {},
   "outputs": [],
   "source": [
    "plot_loss_accuracy(trainLostList,valLossList,trainAccList,valAccList,num_epochs)"
   ]
  },
  {
   "cell_type": "markdown",
   "metadata": {},
   "source": [
    "### Try with Horizontal Data"
   ]
  },
  {
   "cell_type": "code",
   "execution_count": 5,
   "metadata": {},
   "outputs": [
    {
     "data": {
      "image/png": "[encoded data removed]",
      "text/plain": [
       "<Figure size 432x288 with 1 Axes>"
      ]
     },
     "metadata": {
      "needs_background": "light"
     },
     "output_type": "display_data"
    }
   ],
   "source": [
    "parityDataHor2 = MNISTParityHorizontal(2, transforms = transforms)\n",
    "parityDataHor2.plotRandomData()\n",
    "\n",
    "trainloaderParityHor2 = DataLoader(parityDataHor2.trainset, batch_size=128, shuffle=True)\n",
    "testloaderParityHor2 = DataLoader(parityDataHor2.testset, batch_size=128, shuffle=True)"
   ]
  },
  {
   "cell_type": "code",
   "execution_count": 6,
   "metadata": {},
   "outputs": [
    {
     "name": "stdout",
     "output_type": "stream",
     "text": [
      "1568\n",
      "Training on cuda:0\n",
      "Epoch 1 completed. Loss - total: 16944.5808 - average: 0.5648; Performance: 0.6947\n",
      "TESTING - loss 2500.470333337784 - performance 0.7496\n",
      "Epoch 2 completed. Loss - total: 13212.5882 - average: 0.4404; Performance: 0.7930\n",
      "TESTING - loss 2342.6679623126984 - performance 0.7746\n",
      "Epoch 3 completed. Loss - total: 11976.1661 - average: 0.3992; Performance: 0.8196\n",
      "TESTING - loss 2803.976583957672 - performance 0.7214\n",
      "Epoch 4 completed. Loss - total: 10800.0110 - average: 0.3600; Performance: 0.8444\n",
      "TESTING - loss 2058.121118545532 - performance 0.8014\n",
      "Epoch 5 completed. Loss - total: 9853.5440 - average: 0.3285; Performance: 0.8657\n",
      "TESTING - loss 1979.8475341796875 - performance 0.8130\n",
      "Epoch 6 completed. Loss - total: 9144.1504 - average: 0.3048; Performance: 0.8762\n",
      "TESTING - loss 1868.6694424152374 - performance 0.8290\n",
      "Epoch 7 completed. Loss - total: 8514.5281 - average: 0.2838; Performance: 0.8873\n",
      "TESTING - loss 1786.7218549251556 - performance 0.8400\n",
      "Epoch 8 completed. Loss - total: 8023.9862 - average: 0.2675; Performance: 0.8965\n",
      "TESTING - loss 1720.6115579605103 - performance 0.8438\n",
      "Epoch 9 completed. Loss - total: 7627.5349 - average: 0.2543; Performance: 0.9037\n",
      "TESTING - loss 1756.5738884806633 - performance 0.8400\n",
      "Epoch 10 completed. Loss - total: 7248.5439 - average: 0.2416; Performance: 0.9111\n",
      "TESTING - loss 1769.6141008138657 - performance 0.8368\n",
      "Epoch 11 completed. Loss - total: 7014.4548 - average: 0.2338; Performance: 0.9138\n",
      "TESTING - loss 1891.4150409698486 - performance 0.8220\n",
      "Epoch 12 completed. Loss - total: 6826.5034 - average: 0.2276; Performance: 0.9177\n",
      "TESTING - loss 2028.954074382782 - performance 0.8242\n",
      "Epoch 13 completed. Loss - total: 6572.5290 - average: 0.2191; Performance: 0.9225\n",
      "TESTING - loss 1713.58438205719 - performance 0.8512\n",
      "Epoch 14 completed. Loss - total: 6426.0045 - average: 0.2142; Performance: 0.9245\n",
      "TESTING - loss 1565.793885231018 - performance 0.8646\n",
      "Epoch 15 completed. Loss - total: 6160.2581 - average: 0.2053; Performance: 0.9283\n",
      "TESTING - loss 1646.8557529449463 - performance 0.8610\n",
      "Epoch 16 completed. Loss - total: 6015.6006 - average: 0.2005; Performance: 0.9305\n",
      "TESTING - loss 1731.498809337616 - performance 0.8438\n",
      "Epoch 17 completed. Loss - total: 6004.9439 - average: 0.2002; Performance: 0.9312\n",
      "TESTING - loss 1567.1750502586365 - performance 0.8638\n",
      "Epoch 18 completed. Loss - total: 5950.6560 - average: 0.1984; Performance: 0.9311\n",
      "TESTING - loss 1569.412276983261 - performance 0.8642\n",
      "Epoch 19 completed. Loss - total: 5772.0408 - average: 0.1924; Performance: 0.9338\n",
      "TESTING - loss 1659.3625807762146 - performance 0.8598\n",
      "Epoch 20 completed. Loss - total: 5716.6774 - average: 0.1906; Performance: 0.9352\n",
      "TESTING - loss 1543.2703869342804 - performance 0.8672\n"
     ]
    }
   ],
   "source": [
    "inputShape0, inputShape1 = parityDataHor2.trainset.data[0].shape\n",
    "print(inputShape0 * inputShape1)\n",
    "\n",
    "learn_rate = 0.1 # for SGD\n",
    "num_epochs = 20\n",
    "loss_fn = torch.nn.CrossEntropyLoss()\n",
    "\n",
    "\n",
    "model3 = MLP(inputShape0,inputShape1)\n",
    "optimizer = torch.optim.Adadelta(model3.parameters(), lr=learn_rate, weight_decay = 0.01)\n",
    "\n",
    "trainLostList, trainAccList, valLossList, valAccList  = train_model(model3, trainloaderParityHor2, testloaderParityHor2, loss_fn, \n",
    "                                                                    optimizer, num_epochs, validate_model = True,\n",
    "                                                                    performance=accuracy)\n"
   ]
  },
  {
   "cell_type": "code",
   "execution_count": 7,
   "metadata": {},
   "outputs": [
    {
     "name": "stdout",
     "output_type": "stream",
     "text": [
      "TESTING - loss 1543.2704150676727 - performance 0.8672\n"
     ]
    },
    {
     "data": {
      "text/plain": [
       "(1543.2704150676727, 0.8672)"
      ]
     },
     "execution_count": 7,
     "metadata": {},
     "output_type": "execute_result"
    }
   ],
   "source": [
    "test_model(model3, testloaderParityHor2, loss_fn = loss_fn)"
   ]
  },
  {
   "cell_type": "code",
   "execution_count": 8,
   "metadata": {},
   "outputs": [
    {
     "data": {
      "image/png": "[encoded data removed]",
      "text/plain": [
       "<Figure size 648x648 with 2 Axes>"
      ]
     },
     "metadata": {
      "needs_background": "light"
     },
     "output_type": "display_data"
    }
   ],
   "source": [
    "plot_loss_accuracy(trainLostList,valLossList,trainAccList,valAccList,num_epochs)"
   ]
  },
  {
   "cell_type": "markdown",
   "metadata": {},
   "source": [
    "### For k = 3"
   ]
  },
  {
   "cell_type": "code",
   "execution_count": 9,
   "metadata": {},
   "outputs": [
    {
     "data": {
      "image/png": "[encoded data removed]",
      "text/plain": [
       "<Figure size 432x288 with 1 Axes>"
      ]
     },
     "metadata": {
      "needs_background": "light"
     },
     "output_type": "display_data"
    }
   ],
   "source": [
    "parityDataHor3 = MNISTParityHorizontal(3, transforms = transforms)\n",
    "parityDataHor3.plotRandomData()\n",
    "\n",
    "trainloaderParityHor3 = DataLoader(parityDataHor3.trainset, batch_size=128, shuffle=True)\n",
    "testloaderParityHor3 = DataLoader(parityDataHor3.testset, batch_size=128, shuffle=True)"
   ]
  },
  {
   "cell_type": "code",
   "execution_count": 11,
   "metadata": {},
   "outputs": [
    {
     "name": "stdout",
     "output_type": "stream",
     "text": [
      "2352\n",
      "Training on cuda:0\n",
      "Epoch 1 completed. Loss - total: 13995.5686 - average: 0.6998; Performance: 0.5117\n",
      "TESTING - loss 2340.3505977988243 - performance 0.4950\n",
      "Epoch 2 completed. Loss - total: 13601.8987 - average: 0.6801; Performance: 0.5648\n",
      "TESTING - loss 2358.00176769495 - performance 0.4995\n",
      "Epoch 3 completed. Loss - total: 13304.7196 - average: 0.6652; Performance: 0.6020\n",
      "TESTING - loss 2347.323791205883 - performance 0.5086\n",
      "Epoch 4 completed. Loss - total: 12814.9528 - average: 0.6407; Performance: 0.6410\n",
      "TESTING - loss 2270.430039048195 - performance 0.5536\n",
      "Epoch 5 completed. Loss - total: 12176.1223 - average: 0.6088; Performance: 0.6773\n",
      "TESTING - loss 2337.654790043831 - performance 0.5530\n",
      "Epoch 6 completed. Loss - total: 11575.4143 - average: 0.5788; Performance: 0.6991\n",
      "TESTING - loss 2111.9072360396385 - performance 0.6280\n",
      "Epoch 7 completed. Loss - total: 10975.5318 - average: 0.5488; Performance: 0.7306\n",
      "TESTING - loss 2167.9847838282585 - performance 0.6106\n",
      "Epoch 8 completed. Loss - total: 10528.6035 - average: 0.5264; Performance: 0.7452\n",
      "TESTING - loss 2123.0487996935844 - performance 0.6247\n",
      "Epoch 9 completed. Loss - total: 10090.9195 - average: 0.5045; Performance: 0.7590\n",
      "TESTING - loss 2038.7069321870804 - performance 0.6640\n",
      "Epoch 10 completed. Loss - total: 9679.1304 - average: 0.4840; Performance: 0.7763\n",
      "TESTING - loss 2115.7735110521317 - performance 0.6391\n",
      "Epoch 11 completed. Loss - total: 9402.3637 - average: 0.4701; Performance: 0.7842\n",
      "TESTING - loss 2043.8627327084541 - performance 0.6568\n",
      "Epoch 12 completed. Loss - total: 9003.5133 - average: 0.4502; Performance: 0.7986\n",
      "TESTING - loss 2774.472561120987 - performance 0.5665\n",
      "Epoch 13 completed. Loss - total: 8782.7647 - average: 0.4391; Performance: 0.8072\n",
      "TESTING - loss 2413.5479622483253 - performance 0.6004\n",
      "Epoch 14 completed. Loss - total: 8451.5113 - average: 0.4226; Performance: 0.8165\n",
      "TESTING - loss 2099.060267686844 - performance 0.6520\n",
      "Epoch 15 completed. Loss - total: 8201.7789 - average: 0.4101; Performance: 0.8253\n",
      "TESTING - loss 3265.93880879879 - performance 0.5548\n",
      "Epoch 16 completed. Loss - total: 7960.3477 - average: 0.3980; Performance: 0.8347\n",
      "TESTING - loss 2001.8417913913727 - performance 0.6769\n",
      "Epoch 17 completed. Loss - total: 7833.6438 - average: 0.3917; Performance: 0.8338\n",
      "TESTING - loss 2011.8974112272263 - performance 0.6757\n",
      "Epoch 18 completed. Loss - total: 7546.2413 - average: 0.3773; Performance: 0.8424\n",
      "TESTING - loss 2201.0180377960205 - performance 0.6370\n",
      "Epoch 19 completed. Loss - total: 7203.6000 - average: 0.3602; Performance: 0.8566\n",
      "TESTING - loss 2173.443422973156 - performance 0.6508\n",
      "Epoch 20 completed. Loss - total: 7123.9027 - average: 0.3562; Performance: 0.8573\n",
      "TESTING - loss 2142.4225189983845 - performance 0.6619\n"
     ]
    }
   ],
   "source": [
    "inputShape0, inputShape1 = parityDataHor3.trainset.data[0].shape\n",
    "print(inputShape0 * inputShape1)\n",
    "\n",
    "learn_rate = 0.1 # for SGD\n",
    "num_epochs = 20\n",
    "loss_fn = loss_fn = torch.nn.CrossEntropyLoss()\n",
    "\n",
    "\n",
    "model4 = MLP(inputShape0,inputShape1)\n",
    "optimizer = torch.optim.Adadelta(model4.parameters(), lr=learn_rate, weight_decay = 0.01)\n",
    "\n",
    "trainLostList, trainAccList, valLossList, valAccList  = train_model(model4, trainloaderParityHor3, testloaderParityHor3, loss_fn, \n",
    "                                                                    optimizer, num_epochs, validate_model = True,\n",
    "                                                                    performance=accuracy)\n"
   ]
  },
  {
   "cell_type": "code",
   "execution_count": null,
   "metadata": {},
   "outputs": [],
   "source": [
    "plot_loss_accuracy(trainLostList,valLossList,trainAccList,valAccList,num_epochs)"
   ]
  },
  {
   "cell_type": "markdown",
   "metadata": {},
   "source": [
    "## TODO\n",
    "* Questions:\n",
    "    * Paper tells that labels are 1 and -1, do we need to modify it?\n",
    "    * Paper uses Hinge-loss, counterpart of this loss function is this one https://pytorch.org/docs/stable/generated/torch.nn.HingeEmbeddingLoss.html or do we need to write it?\n",
    "    * Regularizaiton seems a bit different than L2, but it reminds it. Can I use weight_decay parameter in AdaDelta optimizer?"
   ]
  }
 ],
 "metadata": {
  "colab": {
   "name": "Sahibinden Veri Cekme Full.ipynb",
   "provenance": []
  },
  "kernelspec": {
   "display_name": "Python 3",
   "language": "python",
   "name": "python3"
  },
  "language_info": {
   "codemirror_mode": {
    "name": "ipython",
    "version": 3
   },
   "file_extension": ".py",
   "mimetype": "text/x-python",
   "name": "python",
   "nbconvert_exporter": "python",
   "pygments_lexer": "ipython3",
   "version": "3.8.2"
  },
  "toc": {
   "base_numbering": 1,
   "nav_menu": {
    "height": "423.991px",
    "width": "239.29px"
   },
   "number_sections": true,
   "sideBar": true,
   "skip_h1_title": false,
   "title_cell": "Table of Contents",
   "title_sidebar": "Contents",
   "toc_cell": false,
   "toc_position": {},
   "toc_section_display": true,
   "toc_window_display": false
  }
 },
 "nbformat": 4,
 "nbformat_minor": 1
}
