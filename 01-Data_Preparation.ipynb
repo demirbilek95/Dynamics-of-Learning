{
 "cells": [
  {
   "cell_type": "code",
   "execution_count": 1,
   "source": [
    "import os\n",
    "import numpy as np\n",
    "import matplotlib.pyplot as plt\n",
    "import matplotlib.ticker as mticker\n",
    "import torch\n",
    "from torch.utils.data import DataLoader\n",
    "import torchvision\n",
    "from torchvision.transforms import ToTensor, Normalize, Compose\n",
    "from torch.optim import lr_scheduler"
   ],
   "outputs": [],
   "metadata": {}
  },
  {
   "cell_type": "code",
   "execution_count": 2,
   "source": [
    "from scripts.mnistParity import MNISTParity\n",
    "from scripts.architecture import MLP\n",
    "from scripts.train_utils import accuracy\n",
    "from scripts.train import train_epoch, train_model, test_model\n",
    "from scripts.plot_utils import plot_loss_accuracy, plotValAccuracy"
   ],
   "outputs": [],
   "metadata": {}
  },
  {
   "cell_type": "code",
   "execution_count": 3,
   "source": [
    "print(torch.__version__)\n",
    "print(np.__version__)"
   ],
   "outputs": [
    {
     "output_type": "stream",
     "name": "stdout",
     "text": [
      "1.9.0\n",
      "1.20.2\n"
     ]
    }
   ],
   "metadata": {}
  },
  {
   "cell_type": "markdown",
   "source": [
    "## Create Parity Data Iterator"
   ],
   "metadata": {}
  },
  {
   "cell_type": "markdown",
   "source": [
    "### Vertical"
   ],
   "metadata": {}
  },
  {
   "cell_type": "code",
   "execution_count": 4,
   "source": [
    "transforms = Compose([\n",
    "    ToTensor(),\n",
    "    Normalize((0.1307,), (0.3081,))\n",
    "])"
   ],
   "outputs": [],
   "metadata": {}
  },
  {
   "cell_type": "code",
   "execution_count": 5,
   "source": [
    "trainset = torchvision.datasets.MNIST(root='data', train=True, download=True, transform=transforms)\n",
    "testset = torchvision.datasets.MNIST(root='data', train=False, download=True, transform=transforms)"
   ],
   "outputs": [],
   "metadata": {}
  },
  {
   "cell_type": "code",
   "execution_count": 6,
   "source": [
    "learn_rate = 0.05\n",
    "num_epochs = 20\n",
    "batch_size = 128\n",
    "loss_fn = torch.nn.CrossEntropyLoss()"
   ],
   "outputs": [],
   "metadata": {}
  },
  {
   "cell_type": "markdown",
   "source": [
    "### For k = 1"
   ],
   "metadata": {}
  },
  {
   "cell_type": "code",
   "execution_count": 7,
   "source": [
    "# k = 1\n",
    "k = 1\n",
    "model = MLP(k, \"ReLU\")\n",
    "optimizer = torch.optim.Adadelta(model.parameters(), lr=learn_rate, weight_decay = 0.001)\n",
    "\n",
    "trainLostList, trainAccList, valLossList, valAccList  = train_model(model, k, trainset, testset, loss_fn, optimizer, num_epochs, batch_size, validate_model = True,\n",
    "                                                                     performance=accuracy, device=\"cuda:0\", lr_scheduler=None)\n"
   ],
   "outputs": [
    {
     "output_type": "stream",
     "name": "stdout",
     "text": [
      "Training on cuda:0\n",
      "Epoch 1 completed. Loss - total: 50927.2059 - average: 0.8488; Performance: 0.9135\n",
      "TESTING - loss 3024.1695642471313 - performance 0.9543\n"
     ]
    },
    {
     "output_type": "error",
     "ename": "KeyboardInterrupt",
     "evalue": "",
     "traceback": [
      "\u001b[0;31m---------------------------------------------------------------------------\u001b[0m",
      "\u001b[0;31mKeyboardInterrupt\u001b[0m                         Traceback (most recent call last)",
      "\u001b[0;32m<ipython-input-7-f581b5d720c8>\u001b[0m in \u001b[0;36m<module>\u001b[0;34m\u001b[0m\n\u001b[1;32m      4\u001b[0m \u001b[0moptimizer\u001b[0m \u001b[0;34m=\u001b[0m \u001b[0mtorch\u001b[0m\u001b[0;34m.\u001b[0m\u001b[0moptim\u001b[0m\u001b[0;34m.\u001b[0m\u001b[0mAdadelta\u001b[0m\u001b[0;34m(\u001b[0m\u001b[0mmodel\u001b[0m\u001b[0;34m.\u001b[0m\u001b[0mparameters\u001b[0m\u001b[0;34m(\u001b[0m\u001b[0;34m)\u001b[0m\u001b[0;34m,\u001b[0m \u001b[0mlr\u001b[0m\u001b[0;34m=\u001b[0m\u001b[0mlearn_rate\u001b[0m\u001b[0;34m,\u001b[0m \u001b[0mweight_decay\u001b[0m \u001b[0;34m=\u001b[0m \u001b[0;36m0.001\u001b[0m\u001b[0;34m)\u001b[0m\u001b[0;34m\u001b[0m\u001b[0;34m\u001b[0m\u001b[0m\n\u001b[1;32m      5\u001b[0m \u001b[0;34m\u001b[0m\u001b[0m\n\u001b[0;32m----> 6\u001b[0;31m trainLostList, trainAccList, valLossList, valAccList  = train_model(model, k, trainset, testset, loss_fn, optimizer, num_epochs, batch_size, validate_model = True,\n\u001b[0m\u001b[1;32m      7\u001b[0m                                                                      performance=accuracy, device=\"cuda:0\", lr_scheduler=None)\n",
      "\u001b[0;32m~/Desktop/Thesis/code/Dynamics-of-Learning/scripts/train.py\u001b[0m in \u001b[0;36mtrain_model\u001b[0;34m(model, k, trainset, testset, loss_fn, optimizer, num_epochs, batch_size, validate_model, performance, device, lr_scheduler, lr_scheduler_step_on_epoch)\u001b[0m\n\u001b[1;32m     47\u001b[0m     \u001b[0;31m# epoch loop\u001b[0m\u001b[0;34m\u001b[0m\u001b[0;34m\u001b[0m\u001b[0;34m\u001b[0m\u001b[0m\n\u001b[1;32m     48\u001b[0m     \u001b[0;32mfor\u001b[0m \u001b[0mepoch\u001b[0m \u001b[0;32min\u001b[0m \u001b[0mrange\u001b[0m\u001b[0;34m(\u001b[0m\u001b[0mnum_epochs\u001b[0m\u001b[0;34m)\u001b[0m\u001b[0;34m:\u001b[0m\u001b[0;34m\u001b[0m\u001b[0;34m\u001b[0m\u001b[0m\n\u001b[0;32m---> 49\u001b[0;31m         \u001b[0mtrainData\u001b[0m \u001b[0;34m=\u001b[0m \u001b[0mMNISTParity\u001b[0m\u001b[0;34m(\u001b[0m\u001b[0mtrainset\u001b[0m\u001b[0;34m,\u001b[0m \u001b[0mk\u001b[0m\u001b[0;34m,\u001b[0m \u001b[0mbatch_size\u001b[0m\u001b[0;34m)\u001b[0m\u001b[0;34m\u001b[0m\u001b[0;34m\u001b[0m\u001b[0m\n\u001b[0m\u001b[1;32m     50\u001b[0m         \u001b[0mloss_meter\u001b[0m \u001b[0;34m=\u001b[0m \u001b[0mAverageMeter\u001b[0m\u001b[0;34m(\u001b[0m\u001b[0;34m)\u001b[0m\u001b[0;34m\u001b[0m\u001b[0;34m\u001b[0m\u001b[0m\n\u001b[1;32m     51\u001b[0m         \u001b[0mperformance_meter\u001b[0m \u001b[0;34m=\u001b[0m \u001b[0mAverageMeter\u001b[0m\u001b[0;34m(\u001b[0m\u001b[0;34m)\u001b[0m\u001b[0;34m\u001b[0m\u001b[0;34m\u001b[0m\u001b[0m\n",
      "\u001b[0;32m~/Desktop/Thesis/code/Dynamics-of-Learning/scripts/mnistParity.py\u001b[0m in \u001b[0;36m__init__\u001b[0;34m(self, dataset, k, batch_size)\u001b[0m\n\u001b[1;32m    110\u001b[0m         \u001b[0;31m# k = 1\u001b[0m\u001b[0;34m\u001b[0m\u001b[0;34m\u001b[0m\u001b[0;34m\u001b[0m\u001b[0m\n\u001b[1;32m    111\u001b[0m         \u001b[0;32melse\u001b[0m\u001b[0;34m:\u001b[0m\u001b[0;34m\u001b[0m\u001b[0;34m\u001b[0m\u001b[0m\n\u001b[0;32m--> 112\u001b[0;31m             \u001b[0mself\u001b[0m\u001b[0;34m.\u001b[0m\u001b[0mdata\u001b[0m \u001b[0;34m=\u001b[0m \u001b[0mdataset\u001b[0m\u001b[0;34m.\u001b[0m\u001b[0mdata\u001b[0m\u001b[0;34m.\u001b[0m\u001b[0mfloat\u001b[0m\u001b[0;34m(\u001b[0m\u001b[0;34m)\u001b[0m\u001b[0;34m\u001b[0m\u001b[0;34m\u001b[0m\u001b[0m\n\u001b[0m\u001b[1;32m    113\u001b[0m             \u001b[0mself\u001b[0m\u001b[0;34m.\u001b[0m\u001b[0mtargets\u001b[0m \u001b[0;34m=\u001b[0m \u001b[0mdataset\u001b[0m\u001b[0;34m.\u001b[0m\u001b[0mtargets\u001b[0m \u001b[0;34m%\u001b[0m \u001b[0;36m2\u001b[0m\u001b[0;34m\u001b[0m\u001b[0;34m\u001b[0m\u001b[0m\n\u001b[1;32m    114\u001b[0m \u001b[0;34m\u001b[0m\u001b[0m\n",
      "\u001b[0;31mKeyboardInterrupt\u001b[0m: "
     ]
    }
   ],
   "metadata": {
    "scrolled": true
   }
  },
  {
   "cell_type": "code",
   "execution_count": null,
   "source": [
    "plot_loss_accuracy(trainLostList,valLossList,trainAccList,valAccList,num_epochs)"
   ],
   "outputs": [],
   "metadata": {}
  },
  {
   "cell_type": "markdown",
   "source": [
    "### For k = 3"
   ],
   "metadata": {}
  },
  {
   "cell_type": "code",
   "execution_count": null,
   "source": [
    "learn_rate = 0.05\n",
    "\n",
    "k = 3\n",
    "model3 = MLP(k)\n",
    "optimizer = torch.optim.Adadelta(model3.parameters(), lr=learn_rate, weight_decay = 0.001)\n",
    "\n",
    "trainLostList3, trainAccList3, valLossList3, valAccList3  = train_model(model3, k, trainset, testset, loss_fn, optimizer, num_epochs, batch_size, validate_model = True,\n",
    "                                                                     performance=accuracy, device=\"cuda:0\", lr_scheduler=None)\n"
   ],
   "outputs": [],
   "metadata": {}
  },
  {
   "cell_type": "code",
   "execution_count": null,
   "source": [
    "plot_loss_accuracy(trainLostList3,valLossList3,trainAccList3,valAccList3,num_epochs)"
   ],
   "outputs": [],
   "metadata": {}
  },
  {
   "cell_type": "code",
   "execution_count": null,
   "source": [
    "## Plain SGD didn't learn\n",
    "## Tried with different parameters for momentum, dampening and nesterov, it didn't learn\n",
    "learn_rate = 0.05\n",
    "k = 3\n",
    "model4 = MLP(k)\n",
    "optimizer = torch.optim.SGD(model4.parameters(), lr=learn_rate, weight_decay = 0.01, momentum=0.9, dampening = 0.2)\n",
    "\n",
    "trainLostList4, trainAccList4, valLossList4, valAccList4  = train_model(model4, k, trainset, testset, loss_fn, optimizer, num_epochs, batch_size, validate_model = True,\n",
    "                                                                     performance=accuracy, device=\"cuda:0\", lr_scheduler=None)\n"
   ],
   "outputs": [],
   "metadata": {}
  },
  {
   "cell_type": "code",
   "execution_count": null,
   "source": [
    "plot_loss_accuracy(trainLostList4,valLossList4,trainAccList4,valAccList4,num_epochs)"
   ],
   "outputs": [],
   "metadata": {}
  },
  {
   "cell_type": "code",
   "execution_count": 12,
   "source": [
    "# Add Lazy methods\n",
    "learn_rate = 0.05\n",
    "K = 3\n",
    "num_epochs = 20\n",
    "\n",
    "fig = plt.figure()\n",
    "for activation in [\"ReLU\", \"NTK\", \"Gaussian features\", \"ReLU features\", \"linear features\"]:\n",
    "    model = MLP(K, activation)\n",
    "\n",
    "    if \"features\" in activation:\n",
    "        # deactivate the first layer\n",
    "        optimizer = torch.optim.Adadelta(model.layer2.parameters(), lr = learn_rate, weight_decay=0.001)\n",
    "    elif \"NTK\" in activation:\n",
    "        paramsToUpdate = list(model.layer1.parameters()) + list(model.layer2.parameters())\n",
    "        optimizer = torch.optim.Adadelta(paramsToUpdate, lr = learn_rate, weight_decay=0.001)\n",
    "    else:\n",
    "        optimizer = torch.optim.Adadelta(model.parameters(), lr = learn_rate, weight_decay=0.001)\n",
    "\n",
    "    print(\"Activation:\",activation)\n",
    "\n",
    "    trainLostList, trainAccList, valLossList, valAccList  = train_model(model, K, trainset, testset, loss_fn, optimizer, num_epochs, \n",
    "                                                                        batch_size, validate_model = True, performance=accuracy, \n",
    "                                                                        device=\"cuda:0\", lr_scheduler=None)\n",
    "\n",
    "    plotValAccuracy(valAccList,num_epochs, activation, K)\n",
    "\n",
    "fig.savefig(str(K) + \"valAccuracy.png\")\n",
    "plt.show()\n",
    "dataset = MNISTParity(trainset, K, 128)\n",
    "dataset.plotRandomData()\n",
    "\n",
    "# just need to find good lr and weight_decay values for lazy methods to have more similar plots to paper\n"
   ],
   "outputs": [
    {
     "output_type": "stream",
     "name": "stdout",
     "text": [
      "Activation: ReLU\n",
      "Training on cuda:0\n",
      "Epoch 1 completed. Loss - total: 145976.5114 - average: 2.4329; Performance: 0.5044\n",
      "TESTING - loss 6992.971897125244 - performance 0.5090\n",
      "Epoch 2 completed. Loss - total: 40663.3585 - average: 0.6777; Performance: 0.5535\n",
      "TESTING - loss 6492.244780063629 - performance 0.6008\n",
      "Epoch 3 completed. Loss - total: 37503.4817 - average: 0.6251; Performance: 0.6262\n",
      "TESTING - loss 5975.923001766205 - performance 0.6602\n",
      "Epoch 4 completed. Loss - total: 35428.6686 - average: 0.5905; Performance: 0.6653\n",
      "TESTING - loss 5700.83612203598 - performance 0.6832\n",
      "Epoch 5 completed. Loss - total: 34447.8915 - average: 0.5741; Performance: 0.6794\n",
      "TESTING - loss 5554.011404514313 - performance 0.6945\n",
      "Epoch 6 completed. Loss - total: 33474.6848 - average: 0.5579; Performance: 0.6944\n",
      "TESTING - loss 5520.319640636444 - performance 0.6976\n",
      "Epoch 7 completed. Loss - total: 32833.1746 - average: 0.5472; Performance: 0.7062\n",
      "TESTING - loss 5362.677812576294 - performance 0.7109\n",
      "Epoch 8 completed. Loss - total: 32154.3316 - average: 0.5359; Performance: 0.7150\n",
      "TESTING - loss 5293.668329715729 - performance 0.7221\n",
      "Epoch 9 completed. Loss - total: 31776.0673 - average: 0.5296; Performance: 0.7174\n",
      "TESTING - loss 5155.64700961113 - performance 0.7283\n",
      "Epoch 10 completed. Loss - total: 31173.4454 - average: 0.5196; Performance: 0.7260\n",
      "TESTING - loss 5082.557290792465 - performance 0.7343\n",
      "Epoch 11 completed. Loss - total: 30907.9190 - average: 0.5151; Performance: 0.7292\n",
      "TESTING - loss 5147.988051176071 - performance 0.7318\n",
      "Epoch 12 completed. Loss - total: 30354.2324 - average: 0.5059; Performance: 0.7359\n",
      "TESTING - loss 4993.30672621727 - performance 0.7410\n",
      "Epoch 13 completed. Loss - total: 30028.0142 - average: 0.5005; Performance: 0.7431\n",
      "TESTING - loss 5073.883891105652 - performance 0.7338\n",
      "Epoch 14 completed. Loss - total: 29933.8394 - average: 0.4989; Performance: 0.7444\n",
      "TESTING - loss 4979.511737823486 - performance 0.7475\n",
      "Epoch 15 completed. Loss - total: 29765.9162 - average: 0.4961; Performance: 0.7474\n",
      "TESTING - loss 4814.663261175156 - performance 0.7571\n",
      "Epoch 16 completed. Loss - total: 29514.6290 - average: 0.4919; Performance: 0.7533\n",
      "TESTING - loss 4816.887676715851 - performance 0.7604\n",
      "Epoch 17 completed. Loss - total: 29336.5073 - average: 0.4889; Performance: 0.7519\n",
      "TESTING - loss 4714.445680379868 - performance 0.7684\n",
      "Epoch 18 completed. Loss - total: 29227.6816 - average: 0.4871; Performance: 0.7543\n",
      "TESTING - loss 4957.256376743317 - performance 0.7536\n",
      "Epoch 19 completed. Loss - total: 28905.8620 - average: 0.4818; Performance: 0.7591\n",
      "TESTING - loss 4895.466566085815 - performance 0.7529\n",
      "Epoch 20 completed. Loss - total: 28697.9219 - average: 0.4783; Performance: 0.7611\n",
      "TESTING - loss 4829.016089439392 - performance 0.7556\n",
      "Activation: NTK\n",
      "Training on cuda:0\n",
      "Epoch 1 completed. Loss - total: 599085.5951 - average: 9.9848; Performance: 0.5007\n",
      "TESTING - loss 14708.390235900879 - performance 0.4971\n",
      "Epoch 2 completed. Loss - total: 49863.1197 - average: 0.8311; Performance: 0.5032\n",
      "TESTING - loss 7447.094440460205 - performance 0.5006\n",
      "Epoch 3 completed. Loss - total: 44049.0872 - average: 0.7342; Performance: 0.4995\n",
      "TESTING - loss 7253.141939640045 - performance 0.5045\n",
      "Epoch 4 completed. Loss - total: 43928.6688 - average: 0.7321; Performance: 0.4970\n",
      "TESTING - loss 7344.083249568939 - performance 0.5040\n",
      "Epoch 5 completed. Loss - total: 43718.0627 - average: 0.7286; Performance: 0.5059\n",
      "TESTING - loss 7406.6755175590515 - performance 0.4914\n",
      "Epoch 6 completed. Loss - total: 43694.5954 - average: 0.7282; Performance: 0.5070\n",
      "TESTING - loss 7040.324807167053 - performance 0.5091\n",
      "Epoch 7 completed. Loss - total: 43658.1973 - average: 0.7276; Performance: 0.5078\n",
      "TESTING - loss 7190.498352050781 - performance 0.5090\n",
      "Epoch 8 completed. Loss - total: 43585.0057 - average: 0.7264; Performance: 0.5050\n",
      "TESTING - loss 7097.401022911072 - performance 0.5093\n",
      "Epoch 9 completed. Loss - total: 43535.8694 - average: 0.7256; Performance: 0.5048\n",
      "TESTING - loss 7317.920506000519 - performance 0.5080\n",
      "Epoch 10 completed. Loss - total: 43560.6612 - average: 0.7260; Performance: 0.5079\n",
      "TESTING - loss 7291.435539722443 - performance 0.5137\n",
      "Epoch 11 completed. Loss - total: 43461.9305 - average: 0.7244; Performance: 0.5066\n",
      "TESTING - loss 7090.207517147064 - performance 0.5076\n",
      "Epoch 12 completed. Loss - total: 43449.3737 - average: 0.7242; Performance: 0.5036\n",
      "TESTING - loss 7039.699375629425 - performance 0.5227\n",
      "Epoch 13 completed. Loss - total: 43356.7318 - average: 0.7226; Performance: 0.5090\n",
      "TESTING - loss 7864.630460739136 - performance 0.4977\n",
      "Epoch 14 completed. Loss - total: 43411.3160 - average: 0.7235; Performance: 0.5055\n",
      "TESTING - loss 7066.987991333008 - performance 0.5111\n",
      "Epoch 15 completed. Loss - total: 43303.5287 - average: 0.7217; Performance: 0.5078\n",
      "TESTING - loss 7144.450545310974 - performance 0.5161\n",
      "Epoch 16 completed. Loss - total: 43280.0503 - average: 0.7213; Performance: 0.5095\n",
      "TESTING - loss 7815.589666366577 - performance 0.5089\n",
      "Epoch 17 completed. Loss - total: 43309.5516 - average: 0.7218; Performance: 0.5067\n",
      "TESTING - loss 7690.179824829102 - performance 0.5073\n",
      "Epoch 18 completed. Loss - total: 43244.3620 - average: 0.7207; Performance: 0.5063\n",
      "TESTING - loss 7205.352365970612 - performance 0.5114\n",
      "Epoch 19 completed. Loss - total: 43288.6127 - average: 0.7215; Performance: 0.5052\n",
      "TESTING - loss 7492.6552176475525 - performance 0.5033\n",
      "Epoch 20 completed. Loss - total: 43200.7588 - average: 0.7200; Performance: 0.5095\n",
      "TESTING - loss 7050.465941429138 - performance 0.5231\n",
      "Activation: Gaussian features\n",
      "Training on cuda:0\n",
      "Epoch 1 completed. Loss - total: 1060380.5096 - average: 17.6730; Performance: 0.5001\n",
      "TESTING - loss 104033.82778167725 - performance 0.5110\n",
      "Epoch 2 completed. Loss - total: 475562.3612 - average: 7.9260; Performance: 0.4972\n",
      "TESTING - loss 54172.28126525879 - performance 0.5002\n",
      "Epoch 3 completed. Loss - total: 326959.6495 - average: 5.4493; Performance: 0.5009\n",
      "TESTING - loss 66480.71146011353 - performance 0.5012\n",
      "Epoch 4 completed. Loss - total: 415732.1981 - average: 6.9289; Performance: 0.4983\n",
      "TESTING - loss 82169.88134384155 - performance 0.5008\n",
      "Epoch 5 completed. Loss - total: 475160.1389 - average: 7.9193; Performance: 0.4984\n",
      "TESTING - loss 60898.783683776855 - performance 0.5000\n",
      "Epoch 6 completed. Loss - total: 505473.1517 - average: 8.4246; Performance: 0.5017\n",
      "TESTING - loss 76324.78380203247 - performance 0.4899\n",
      "Epoch 7 completed. Loss - total: 521541.8667 - average: 8.6924; Performance: 0.5014\n",
      "TESTING - loss 93100.19874572754 - performance 0.5027\n",
      "Epoch 8 completed. Loss - total: 536082.7877 - average: 8.9347; Performance: 0.5047\n",
      "TESTING - loss 102970.52478790283 - performance 0.4967\n",
      "Epoch 9 completed. Loss - total: 555524.7804 - average: 9.2587; Performance: 0.4986\n",
      "TESTING - loss 59425.77409744263 - performance 0.5034\n",
      "Epoch 10 completed. Loss - total: 562580.0916 - average: 9.3763; Performance: 0.4986\n",
      "TESTING - loss 79885.80226898193 - performance 0.5001\n",
      "Epoch 11 completed. Loss - total: 563777.5148 - average: 9.3963; Performance: 0.5008\n",
      "TESTING - loss 115208.81366729736 - performance 0.4920\n",
      "Epoch 12 completed. Loss - total: 560315.4926 - average: 9.3386; Performance: 0.5023\n",
      "TESTING - loss 120097.49698638916 - performance 0.4990\n",
      "Epoch 13 completed. Loss - total: 566384.5841 - average: 9.4397; Performance: 0.5021\n",
      "TESTING - loss 73707.44323730469 - performance 0.5042\n",
      "Epoch 14 completed. Loss - total: 569118.6036 - average: 9.4853; Performance: 0.4985\n",
      "TESTING - loss 77684.17501449585 - performance 0.4985\n",
      "Epoch 15 completed. Loss - total: 558167.2220 - average: 9.3028; Performance: 0.5009\n",
      "TESTING - loss 46171.3342666626 - performance 0.5136\n",
      "Epoch 16 completed. Loss - total: 572260.7988 - average: 9.5377; Performance: 0.4961\n",
      "TESTING - loss 104252.16579437256 - performance 0.4976\n",
      "Epoch 17 completed. Loss - total: 571596.9037 - average: 9.5266; Performance: 0.4987\n",
      "TESTING - loss 77433.39109420776 - performance 0.4980\n",
      "Epoch 18 completed. Loss - total: 570734.7625 - average: 9.5122; Performance: 0.4991\n",
      "TESTING - loss 95278.13053131104 - performance 0.5037\n",
      "Epoch 19 completed. Loss - total: 556303.1840 - average: 9.2717; Performance: 0.5036\n",
      "TESTING - loss 79573.97937774658 - performance 0.5060\n",
      "Epoch 20 completed. Loss - total: 565032.8346 - average: 9.4172; Performance: 0.5026\n",
      "TESTING - loss 119632.13539123535 - performance 0.5087\n",
      "Activation: ReLU features\n",
      "Training on cuda:0\n",
      "Epoch 1 completed. Loss - total: 261670.6686 - average: 4.3612; Performance: 0.4972\n",
      "TESTING - loss 29879.74500656128 - performance 0.4990\n",
      "Epoch 2 completed. Loss - total: 130103.9111 - average: 2.1684; Performance: 0.4982\n",
      "TESTING - loss 15445.893406867981 - performance 0.5054\n",
      "Epoch 3 completed. Loss - total: 94702.5935 - average: 1.5784; Performance: 0.5022\n",
      "TESTING - loss 12994.5969581604 - performance 0.5037\n",
      "Epoch 4 completed. Loss - total: 112308.1364 - average: 1.8718; Performance: 0.4991\n",
      "TESTING - loss 26371.12784385681 - performance 0.5016\n",
      "Epoch 5 completed. Loss - total: 126446.7628 - average: 2.1074; Performance: 0.4975\n",
      "TESTING - loss 13925.700664520264 - performance 0.4944\n",
      "Epoch 6 completed. Loss - total: 133966.0557 - average: 2.2328; Performance: 0.4957\n",
      "TESTING - loss 21300.77600479126 - performance 0.4955\n",
      "Epoch 7 completed. Loss - total: 136990.8165 - average: 2.2832; Performance: 0.5013\n",
      "TESTING - loss 32686.944007873535 - performance 0.5076\n",
      "Epoch 8 completed. Loss - total: 141586.2064 - average: 2.3598; Performance: 0.4963\n",
      "TESTING - loss 31290.384531021118 - performance 0.4986\n",
      "Epoch 9 completed. Loss - total: 142254.8427 - average: 2.3709; Performance: 0.5011\n",
      "TESTING - loss 18177.517771720886 - performance 0.4917\n",
      "Epoch 10 completed. Loss - total: 146713.3436 - average: 2.4452; Performance: 0.4993\n",
      "TESTING - loss 30908.9572429657 - performance 0.4972\n",
      "Epoch 11 completed. Loss - total: 145731.8610 - average: 2.4289; Performance: 0.4992\n",
      "TESTING - loss 24871.129035949707 - performance 0.4962\n",
      "Epoch 12 completed. Loss - total: 142809.9971 - average: 2.3802; Performance: 0.5040\n",
      "TESTING - loss 26042.765378952026 - performance 0.4945\n",
      "Epoch 13 completed. Loss - total: 147348.3962 - average: 2.4558; Performance: 0.4990\n",
      "TESTING - loss 28412.15705871582 - performance 0.4984\n",
      "Epoch 14 completed. Loss - total: 146896.2639 - average: 2.4483; Performance: 0.4996\n",
      "TESTING - loss 28515.15245437622 - performance 0.4968\n",
      "Epoch 15 completed. Loss - total: 148257.6101 - average: 2.4710; Performance: 0.4982\n",
      "TESTING - loss 21258.913040161133 - performance 0.5058\n",
      "Epoch 16 completed. Loss - total: 146549.7636 - average: 2.4425; Performance: 0.5026\n",
      "TESTING - loss 22330.31463623047 - performance 0.5047\n",
      "Epoch 17 completed. Loss - total: 149988.4183 - average: 2.4998; Performance: 0.4991\n",
      "TESTING - loss 24703.601837158203 - performance 0.4946\n",
      "Epoch 18 completed. Loss - total: 148086.8196 - average: 2.4681; Performance: 0.5032\n",
      "TESTING - loss 18798.92921447754 - performance 0.5051\n",
      "Epoch 19 completed. Loss - total: 150544.6750 - average: 2.5091; Performance: 0.5000\n",
      "TESTING - loss 37118.54553222656 - performance 0.4978\n",
      "Epoch 20 completed. Loss - total: 151590.7110 - average: 2.5265; Performance: 0.5006\n",
      "TESTING - loss 28681.575059890747 - performance 0.4896\n",
      "Activation: linear features\n",
      "Training on cuda:0\n",
      "Epoch 1 completed. Loss - total: 325831.6609 - average: 5.4305; Performance: 0.5002\n",
      "TESTING - loss 32570.26243209839 - performance 0.5087\n",
      "Epoch 2 completed. Loss - total: 146725.0564 - average: 2.4454; Performance: 0.5024\n",
      "TESTING - loss 20692.14689731598 - performance 0.5080\n",
      "Epoch 3 completed. Loss - total: 113821.9943 - average: 1.8970; Performance: 0.4966\n",
      "TESTING - loss 21613.97349834442 - performance 0.4979\n",
      "Epoch 4 completed. Loss - total: 105216.8309 - average: 1.7536; Performance: 0.4985\n",
      "TESTING - loss 20519.352674484253 - performance 0.5093\n",
      "Epoch 5 completed. Loss - total: 117385.9864 - average: 1.9564; Performance: 0.5011\n",
      "TESTING - loss 18838.579058647156 - performance 0.4931\n",
      "Epoch 6 completed. Loss - total: 133246.5214 - average: 2.2208; Performance: 0.4960\n",
      "TESTING - loss 22250.386953353882 - performance 0.5007\n",
      "Epoch 7 completed. Loss - total: 139857.4741 - average: 2.3310; Performance: 0.5026\n",
      "TESTING - loss 20027.21071243286 - performance 0.4978\n",
      "Epoch 8 completed. Loss - total: 147861.4924 - average: 2.4644; Performance: 0.4986\n",
      "TESTING - loss 27975.643157958984 - performance 0.5112\n",
      "Epoch 9 completed. Loss - total: 152874.1681 - average: 2.5479; Performance: 0.4990\n",
      "TESTING - loss 32349.454402923584 - performance 0.5030\n",
      "Epoch 10 completed. Loss - total: 158694.5834 - average: 2.6449; Performance: 0.4997\n",
      "TESTING - loss 27649.577379226685 - performance 0.5116\n",
      "Epoch 11 completed. Loss - total: 159359.2632 - average: 2.6560; Performance: 0.5028\n",
      "TESTING - loss 26070.2965259552 - performance 0.4946\n",
      "Epoch 12 completed. Loss - total: 163470.6326 - average: 2.7245; Performance: 0.5012\n",
      "TESTING - loss 29802.481412887573 - performance 0.4959\n",
      "Epoch 13 completed. Loss - total: 164763.0907 - average: 2.7461; Performance: 0.5010\n",
      "TESTING - loss 23147.185802459717 - performance 0.4947\n",
      "Epoch 14 completed. Loss - total: 167356.1427 - average: 2.7893; Performance: 0.4966\n",
      "TESTING - loss 28004.623413085938 - performance 0.4909\n",
      "Epoch 15 completed. Loss - total: 165176.8556 - average: 2.7529; Performance: 0.4976\n",
      "TESTING - loss 12685.558557510376 - performance 0.5059\n",
      "Epoch 16 completed. Loss - total: 164584.5876 - average: 2.7431; Performance: 0.5020\n",
      "TESTING - loss 36156.53944015503 - performance 0.4988\n",
      "Epoch 17 completed. Loss - total: 167026.5392 - average: 2.7838; Performance: 0.5005\n",
      "TESTING - loss 36789.6671295166 - performance 0.5000\n",
      "Epoch 18 completed. Loss - total: 165941.5859 - average: 2.7657; Performance: 0.4991\n",
      "TESTING - loss 26578.182220458984 - performance 0.5052\n",
      "Epoch 19 completed. Loss - total: 167880.1609 - average: 2.7980; Performance: 0.4986\n",
      "TESTING - loss 27942.68774986267 - performance 0.4972\n",
      "Epoch 20 completed. Loss - total: 169316.1224 - average: 2.8219; Performance: 0.4978\n",
      "TESTING - loss 21827.426195144653 - performance 0.5029\n"
     ]
    },
    {
     "output_type": "display_data",
     "data": {
      "image/png": "[encoded data removed]",
      "text/plain": [
       "<Figure size 432x288 with 1 Axes>"
      ]
     },
     "metadata": {
      "needs_background": "light"
     }
    },
    {
     "output_type": "display_data",
     "data": {
      "image/png": "[encoded data removed]",
      "text/plain": [
       "<Figure size 432x288 with 1 Axes>"
      ]
     },
     "metadata": {
      "needs_background": "light"
     }
    }
   ],
   "metadata": {}
  },
  {
   "cell_type": "code",
   "execution_count": null,
   "source": [
    "()"
   ],
   "outputs": [],
   "metadata": {}
  }
 ],
 "metadata": {
  "colab": {
   "name": "Sahibinden Veri Cekme Full.ipynb",
   "provenance": []
  },
  "interpreter": {
   "hash": "c73b42f4307b5621c20050e2a07bd2e616b471b51e8418e2c366c1833db7b122"
  },
  "kernelspec": {
   "name": "python3",
   "display_name": "Python 3.8.2 64-bit ('base': conda)"
  },
  "language_info": {
   "codemirror_mode": {
    "name": "ipython",
    "version": 3
   },
   "file_extension": ".py",
   "mimetype": "text/x-python",
   "name": "python",
   "nbconvert_exporter": "python",
   "pygments_lexer": "ipython3",
   "version": "3.8.2"
  },
  "toc": {
   "base_numbering": 1,
   "nav_menu": {
    "height": "423.991px",
    "width": "239.29px"
   },
   "number_sections": true,
   "sideBar": true,
   "skip_h1_title": false,
   "title_cell": "Table of Contents",
   "title_sidebar": "Contents",
   "toc_cell": false,
   "toc_position": {},
   "toc_section_display": true,
   "toc_window_display": false
  }
 },
 "nbformat": 4,
 "nbformat_minor": 1
}