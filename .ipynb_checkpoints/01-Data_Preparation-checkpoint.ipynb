{
 "cells": [
  {
   "cell_type": "code",
   "execution_count": 8,
   "metadata": {},
   "outputs": [],
   "source": [
    "%reset -f\n",
    "import os\n",
    "import numpy as np\n",
    "import torch\n",
    "from torch.utils.data import DataLoader\n",
    "from torchvision.transforms import ToTensor, Normalize, Compose"
   ]
  },
  {
   "cell_type": "code",
   "execution_count": 9,
   "metadata": {},
   "outputs": [],
   "source": [
    "from scripts.mnistParity import MNISTParityVertical, MNISTParityHorizontal\n",
    "from scripts.architecture import MLP\n",
    "from scripts.train_utils import accuracy\n",
    "from scripts.train import train_epoch, train_model, test_model\n",
    "from scripts.plot_utils import plot_loss_accuracy"
   ]
  },
  {
   "cell_type": "code",
   "execution_count": 10,
   "metadata": {},
   "outputs": [
    {
     "name": "stdout",
     "output_type": "stream",
     "text": [
      "1.8.1+cu102\n"
     ]
    }
   ],
   "source": [
    "print(torch.__version__)"
   ]
  },
  {
   "cell_type": "markdown",
   "metadata": {},
   "source": [
    "## Create Parity Data Iterator"
   ]
  },
  {
   "cell_type": "markdown",
   "metadata": {},
   "source": [
    "### Vertical"
   ]
  },
  {
   "cell_type": "code",
   "execution_count": 11,
   "metadata": {},
   "outputs": [],
   "source": [
    "transforms = Compose([\n",
    "    ToTensor(),\n",
    "    Normalize((0.1307,), (0.3081,))\n",
    "])"
   ]
  },
  {
   "cell_type": "code",
   "execution_count": null,
   "metadata": {},
   "outputs": [],
   "source": [
    "parityData2 = MNISTParityVertical(2, transforms = transforms)\n",
    "parityData2.plotRandomData()"
   ]
  },
  {
   "cell_type": "code",
   "execution_count": null,
   "metadata": {},
   "outputs": [],
   "source": [
    "trainloaderParity2 = DataLoader(parityData2.trainset, batch_size=128, shuffle=True)\n",
    "testloaderParity2 = DataLoader(parityData2.testset, batch_size=128, shuffle=True)"
   ]
  },
  {
   "cell_type": "markdown",
   "metadata": {},
   "source": [
    "### Neural Network Part"
   ]
  },
  {
   "cell_type": "code",
   "execution_count": null,
   "metadata": {},
   "outputs": [],
   "source": [
    "#def myHingeLoss(y, yhat):\n",
    "#    return torch.max(1-yhat*y, 0)"
   ]
  },
  {
   "cell_type": "code",
   "execution_count": null,
   "metadata": {},
   "outputs": [],
   "source": [
    "inputShape0, inputShape1 = parityData2.trainset.data[0].shape\n",
    "print(inputShape0 * inputShape1)"
   ]
  },
  {
   "cell_type": "code",
   "execution_count": null,
   "metadata": {},
   "outputs": [],
   "source": [
    "learn_rate = 0.1 # for SGD\n",
    "num_epochs = 20\n",
    "loss_fn = torch.nn.CrossEntropyLoss()"
   ]
  },
  {
   "cell_type": "code",
   "execution_count": null,
   "metadata": {},
   "outputs": [],
   "source": [
    "model = MLP(inputShape0,inputShape1)\n",
    "optimizer = torch.optim.Adadelta(model.parameters(), lr=learn_rate, weight_decay = 0.01)\n",
    "\n",
    "trainLostList, trainAccList, valLossList, valAccList  = train_model(model, trainloaderParity2, testloaderParity2, loss_fn, \n",
    "                                                                    optimizer, num_epochs, validate_model = True,\n",
    "                                                                    performance=accuracy)\n"
   ]
  },
  {
   "cell_type": "code",
   "execution_count": null,
   "metadata": {},
   "outputs": [],
   "source": [
    "test_model(model, testloaderParity2, loss_fn = loss_fn)"
   ]
  },
  {
   "cell_type": "code",
   "execution_count": null,
   "metadata": {},
   "outputs": [],
   "source": [
    "plot_loss_accuracy(trainLostList,valLossList,trainAccList,valAccList,num_epochs)"
   ]
  },
  {
   "cell_type": "markdown",
   "metadata": {},
   "source": [
    "### For k = 3"
   ]
  },
  {
   "cell_type": "code",
   "execution_count": null,
   "metadata": {},
   "outputs": [],
   "source": [
    "parityData3 = MNISTParityVertical(3, transforms = transforms)\n",
    "\n",
    "parityData3.plotRandomData()\n",
    "\n",
    "trainloaderParity3 = DataLoader(parityData3.trainset, batch_size=128, shuffle=True)\n",
    "testloaderParity3 = DataLoader(parityData3.testset, batch_size=128, shuffle=True)"
   ]
  },
  {
   "cell_type": "code",
   "execution_count": null,
   "metadata": {},
   "outputs": [],
   "source": [
    "inputShape0, inputShape1 = parityData3.trainset.data[0].shape\n",
    "print(inputShape0 * inputShape1)\n",
    "model2 = MLP(inputShape0, inputShape1)\n",
    "optimizer = torch.optim.Adadelta(model2.parameters(), lr=learn_rate, weight_decay = 0.01)\n",
    "\n",
    "trainLostList, trainAccList, valLossList, valAccList  = train_model(model2, trainloaderParity3, testloaderParity3, loss_fn, \n",
    "                                                                    optimizer, num_epochs, validate_model = True,\n",
    "                                                                    performance=accuracy)"
   ]
  },
  {
   "cell_type": "code",
   "execution_count": null,
   "metadata": {},
   "outputs": [],
   "source": [
    "plot_loss_accuracy(trainLostList,valLossList,trainAccList,valAccList,num_epochs)"
   ]
  },
  {
   "cell_type": "markdown",
   "metadata": {},
   "source": [
    "### Try with Horizontal Data"
   ]
  },
  {
   "cell_type": "code",
   "execution_count": null,
   "metadata": {},
   "outputs": [],
   "source": [
    "parityDataHor2 = MNISTParityHorizontal(2, transforms = transforms)\n",
    "parityDataHor2.plotRandomData()\n",
    "\n",
    "trainloaderParityHor2 = DataLoader(parityDataHor2.trainset, batch_size=128, shuffle=True)\n",
    "testloaderParityHor2 = DataLoader(parityDataHor2.testset, batch_size=128, shuffle=True)"
   ]
  },
  {
   "cell_type": "code",
   "execution_count": null,
   "metadata": {},
   "outputs": [],
   "source": [
    "inputShape0, inputShape1 = parityDataHor2.trainset.data[0].shape\n",
    "print(inputShape0 * inputShape1)\n",
    "\n",
    "learn_rate = 0.1 # for SGD\n",
    "num_epochs = 20\n",
    "loss_fn = torch.nn.CrossEntropyLoss()\n",
    "\n",
    "\n",
    "model3 = MLP(inputShape0,inputShape1)\n",
    "optimizer = torch.optim.Adadelta(model3.parameters())\n",
    "\n",
    "trainLostList, trainAccList, valLossList, valAccList  = train_model(model3, trainloaderParityHor2, testloaderParityHor2, loss_fn, \n",
    "                                                                    optimizer, num_epochs, validate_model = True,\n",
    "                                                                    performance=accuracy)\n"
   ]
  },
  {
   "cell_type": "code",
   "execution_count": null,
   "metadata": {},
   "outputs": [],
   "source": [
    "test_model(model3, testloaderParityHor2, loss_fn = loss_fn)"
   ]
  },
  {
   "cell_type": "code",
   "execution_count": null,
   "metadata": {},
   "outputs": [],
   "source": [
    "plot_loss_accuracy(trainLostList,valLossList,trainAccList,valAccList,num_epochs)"
   ]
  },
  {
   "cell_type": "markdown",
   "metadata": {},
   "source": [
    "### For k = 3"
   ]
  },
  {
   "cell_type": "code",
   "execution_count": 12,
   "metadata": {},
   "outputs": [
    {
     "data": {
      "image/png": "[encoded data removed]",
      "text/plain": [
       "<Figure size 432x288 with 1 Axes>"
      ]
     },
     "metadata": {
      "needs_background": "light"
     },
     "output_type": "display_data"
    }
   ],
   "source": [
    "parityDataHor3 = MNISTParityHorizontal(3, transforms = transforms)\n",
    "parityDataHor3.plotRandomData()\n",
    "\n",
    "trainloaderParityHor3 = DataLoader(parityDataHor3.trainset, batch_size=128, shuffle=True)\n",
    "testloaderParityHor3 = DataLoader(parityDataHor3.testset, batch_size=128, shuffle=True)"
   ]
  },
  {
   "cell_type": "code",
   "execution_count": 15,
   "metadata": {},
   "outputs": [
    {
     "name": "stdout",
     "output_type": "stream",
     "text": [
      "tensor(0.0009) tensor(1.0025)\n"
     ]
    }
   ],
   "source": [
    "for i in testloaderParityHor3:\n",
    "    x, _ = i\n",
    "    print(torch.mean(x), torch.std(x))\n",
    "    break"
   ]
  },
  {
   "cell_type": "code",
   "execution_count": null,
   "metadata": {},
   "outputs": [],
   "source": [
    "# gives error about the dimension of the output tensor\n",
    "# because it has two elements, do we need to use sigmoid on the last layer?\n",
    "def myHingeLoss(yhat, y):\n",
    "    return torch.max(0, 1 - y * yhat)"
   ]
  },
  {
   "cell_type": "code",
   "execution_count": 7,
   "metadata": {},
   "outputs": [
    {
     "name": "stdout",
     "output_type": "stream",
     "text": [
      "2352\n",
      "Training on cpu\n",
      "Epoch 1 completed. Loss - total: 14071.2429 - average: 0.7036; Performance: 0.5094\n",
      "TESTING - loss 2357.620720744133 - performance 0.4854\n",
      "Epoch 2 completed. Loss - total: 13786.2118 - average: 0.6893; Performance: 0.5425\n",
      "TESTING - loss 2378.4861395955086 - performance 0.4827\n",
      "Epoch 3 completed. Loss - total: 13594.2140 - average: 0.6797; Performance: 0.5672\n",
      "TESTING - loss 2382.048072695732 - performance 0.4887\n",
      "Epoch 4 completed. Loss - total: 13334.2058 - average: 0.6667; Performance: 0.5933\n",
      "TESTING - loss 2389.375333249569 - performance 0.5068\n",
      "Epoch 5 completed. Loss - total: 13077.3508 - average: 0.6539; Performance: 0.6118\n",
      "TESTING - loss 2418.270609855652 - performance 0.4893\n",
      "Epoch 6 completed. Loss - total: 12722.2136 - average: 0.6361; Performance: 0.6363\n",
      "TESTING - loss 2465.2901614904404 - performance 0.5107\n",
      "Epoch 7 completed. Loss - total: 12261.0544 - average: 0.6131; Performance: 0.6635\n",
      "TESTING - loss 2472.7503722310066 - performance 0.5095\n",
      "Epoch 8 completed. Loss - total: 11768.6433 - average: 0.5884; Performance: 0.6927\n",
      "TESTING - loss 2505.44235765934 - performance 0.5038\n",
      "Epoch 9 completed. Loss - total: 11136.5267 - average: 0.5568; Performance: 0.7230\n",
      "TESTING - loss 2583.0627318024635 - performance 0.5086\n",
      "Epoch 10 completed. Loss - total: 10486.4235 - average: 0.5243; Performance: 0.7521\n",
      "TESTING - loss 2601.1492141485214 - performance 0.5197\n",
      "Epoch 11 completed. Loss - total: 9855.6632 - average: 0.4928; Performance: 0.7762\n",
      "TESTING - loss 2712.82165569067 - performance 0.5005\n",
      "Epoch 12 completed. Loss - total: 9138.9324 - average: 0.4569; Performance: 0.8035\n",
      "TESTING - loss 2748.436271250248 - performance 0.5173\n",
      "Epoch 13 completed. Loss - total: 8436.1636 - average: 0.4218; Performance: 0.8267\n",
      "TESTING - loss 2792.818024635315 - performance 0.5206\n",
      "Epoch 14 completed. Loss - total: 7729.7206 - average: 0.3865; Performance: 0.8532\n",
      "TESTING - loss 2899.9045162796974 - performance 0.5218\n",
      "Epoch 15 completed. Loss - total: 7051.0734 - average: 0.3526; Performance: 0.8722\n",
      "TESTING - loss 3012.637019276619 - performance 0.5212\n",
      "Epoch 16 completed. Loss - total: 6406.5309 - average: 0.3203; Performance: 0.8911\n",
      "TESTING - loss 3024.5002250671387 - performance 0.5254\n",
      "Epoch 17 completed. Loss - total: 5796.7342 - average: 0.2898; Performance: 0.9079\n",
      "TESTING - loss 3115.53859436512 - performance 0.5227\n",
      "Epoch 18 completed. Loss - total: 5193.2686 - average: 0.2597; Performance: 0.9254\n",
      "TESTING - loss 3266.182640194893 - performance 0.5191\n",
      "Epoch 19 completed. Loss - total: 4653.0474 - average: 0.2327; Performance: 0.9372\n",
      "TESTING - loss 3317.865076005459 - performance 0.5245\n",
      "Epoch 20 completed. Loss - total: 4118.9217 - average: 0.2059; Performance: 0.9540\n",
      "TESTING - loss 3411.0662739276886 - performance 0.5359\n"
     ]
    }
   ],
   "source": [
    "inputShape0, inputShape1 = parityDataHor3.trainset.data[0].shape\n",
    "print(inputShape0 * inputShape1)\n",
    "\n",
    "learn_rate = 0.1 # for SGD\n",
    "num_epochs = 20\n",
    "# same problem for the torch Hinge (?) implementation\n",
    "loss_fn = torch.nn.CrossEntropyLoss()\n",
    "\n",
    "\n",
    "model4 = MLP(inputShape0,inputShape1)\n",
    "optimizer = torch.optim.Adam(model4.parameters())\n",
    "\n",
    "trainLostList, trainAccList, valLossList, valAccList  = train_model(model4, trainloaderParityHor3, testloaderParityHor3, loss_fn, \n",
    "                                                                    optimizer, num_epochs, validate_model = True,\n",
    "                                                                    performance=accuracy)\n"
   ]
  },
  {
   "cell_type": "code",
   "execution_count": null,
   "metadata": {},
   "outputs": [],
   "source": [
    "plot_loss_accuracy(trainLostList,valLossList,trainAccList,valAccList,num_epochs)"
   ]
  },
  {
   "cell_type": "markdown",
   "metadata": {},
   "source": [
    "## TODO\n",
    "* Questions:\n",
    "    * Paper tells that labels are 1 and -1, do we need to modify it?\n",
    "    * Paper uses Hinge-loss, counterpart of this loss function is this one https://pytorch.org/docs/stable/generated/torch.nn.HingeEmbeddingLoss.html or do we need to write it?\n",
    "    * Regularizaiton seems a bit different than L2, but it reminds it. Can I use weight_decay parameter in AdaDelta optimizer?\n",
    "Continue with crossentropy loss, so labels can be 0 and 1.\n",
    "* **Theoretical Questions**:\n",
    "    * Why biologically plausability matter?\n",
    "    * Weight transport problems is same as propagation exactly symetric of the weigths? --> Yes"
   ]
  },
  {
   "cell_type": "markdown",
   "metadata": {},
   "source": [
    "## Properties of Training\n",
    "* Hinge Loss function with regularization $||u^{(t)}||^2 + \\sum_{i=1}^{2q}||w_i^{(t)}||^2$\n",
    "* One hidden layer with 512 neurons\n",
    "* AdaDelta Optimizer for 20 epocs with batch size 128"
   ]
  },
  {
   "cell_type": "markdown",
   "metadata": {},
   "source": [
    "3 try same MLP for K=1,2 in DFA\n",
    "\n",
    "Put them in the same plot?\n",
    "\n",
    "Try with k=3 to have same performance as paper"
   ]
  }
 ],
 "metadata": {
  "colab": {
   "name": "Sahibinden Veri Cekme Full.ipynb",
   "provenance": []
  },
  "kernelspec": {
   "display_name": "Python 3",
   "language": "python",
   "name": "python3"
  },
  "language_info": {
   "codemirror_mode": {
    "name": "ipython",
    "version": 3
   },
   "file_extension": ".py",
   "mimetype": "text/x-python",
   "name": "python",
   "nbconvert_exporter": "python",
   "pygments_lexer": "ipython3",
   "version": "3.8.2"
  },
  "toc": {
   "base_numbering": 1,
   "nav_menu": {
    "height": "423.991px",
    "width": "239.29px"
   },
   "number_sections": true,
   "sideBar": true,
   "skip_h1_title": false,
   "title_cell": "Table of Contents",
   "title_sidebar": "Contents",
   "toc_cell": false,
   "toc_position": {},
   "toc_section_display": true,
   "toc_window_display": false
  }
 },
 "nbformat": 4,
 "nbformat_minor": 1
}
