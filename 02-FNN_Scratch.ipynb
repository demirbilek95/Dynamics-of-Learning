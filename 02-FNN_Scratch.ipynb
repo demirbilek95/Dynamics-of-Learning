{
 "cells": [
  {
   "cell_type": "markdown",
   "source": [
    "## TODO:\n",
    "- Try to switch to DFA from here and check the performance results."
   ],
   "metadata": {}
  },
  {
   "cell_type": "code",
   "execution_count": 1,
   "source": [
    "import numpy as np\n",
    "import math\n",
    "import torchvision\n",
    "from torchvision.transforms import ToTensor, Normalize, Compose"
   ],
   "outputs": [],
   "metadata": {}
  },
  {
   "cell_type": "code",
   "execution_count": 2,
   "source": [
    "from scripts.train import *"
   ],
   "outputs": [],
   "metadata": {}
  },
  {
   "cell_type": "code",
   "execution_count": 3,
   "source": [
    "print(torch.__version__)\n",
    "print(np.__version__)"
   ],
   "outputs": [
    {
     "output_type": "stream",
     "name": "stdout",
     "text": [
      "1.9.0\n",
      "1.20.3\n"
     ]
    }
   ],
   "metadata": {}
  },
  {
   "cell_type": "markdown",
   "source": [
    "## Create Parity Data Iterator"
   ],
   "metadata": {}
  },
  {
   "cell_type": "code",
   "execution_count": 4,
   "source": [
    "transforms = Compose([\n",
    "    ToTensor(),\n",
    "    Normalize((0.1307,), (0.3081,))\n",
    "])"
   ],
   "outputs": [],
   "metadata": {}
  },
  {
   "cell_type": "code",
   "execution_count": 5,
   "source": [
    "# doesn't perform and transformation until we call the loader\n",
    "trainset = torchvision.datasets.MNIST(root='data', train=True, download=True, transform=transforms)\n",
    "testset = torchvision.datasets.MNIST(root='data', train=False, download=True, transform=transforms)"
   ],
   "outputs": [
    {
     "output_type": "stream",
     "name": "stderr",
     "text": [
      "/home/john/anaconda3/lib/python3.8/site-packages/torchvision/datasets/mnist.py:498: UserWarning: The given NumPy array is not writeable, and PyTorch does not support non-writeable tensors. This means you can write to the underlying (supposedly non-writeable) NumPy array using the tensor. You may want to copy the array to protect its data or make it writeable before converting it to a tensor. This type of warning will be suppressed for the rest of this program. (Triggered internally at  /opt/conda/conda-bld/pytorch_1623448234945/work/torch/csrc/utils/tensor_numpy.cpp:180.)\n",
      "  return torch.from_numpy(parsed.astype(m[2], copy=False)).view(*s)\n"
     ]
    }
   ],
   "metadata": {}
  },
  {
   "cell_type": "markdown",
   "source": [
    "## MLP Scratch"
   ],
   "metadata": {}
  },
  {
   "cell_type": "code",
   "execution_count": 6,
   "source": [
    "learn_rate = 0.05\n",
    "num_epochs = 20\n",
    "batch_size = 128\n",
    "loss_fn = torch.nn.BCELoss() # or BCELoss with sigmoid activation in last layer"
   ],
   "outputs": [],
   "metadata": {}
  },
  {
   "cell_type": "code",
   "execution_count": 7,
   "source": [
    "class MLP_Manual(torch.nn.Module):\n",
    "    def __init__(self, k, device, batch_size, loss_type = \"Cross Entropy\"):\n",
    "        super().__init__()\n",
    "\n",
    "        self.batch_size = batch_size\n",
    "        self.input_dim = 28 * 28 * k\n",
    "        self.hidden_dim = 512\n",
    "        if loss_type == \"Cross Entropy\":\n",
    "            self.output_dim = 2\n",
    "        else:                           # BCE case\n",
    "            self.output_dim = 1\n",
    "        self.learning_rate = 0.001\n",
    "        self.flat = torch.nn.Flatten() # when input comes as 28x28, this'll convert to 784\n",
    "        # WEIGHTS\n",
    "        # initialize the weights as pytorch does by default --> IT DIVERGES and perform worse (90%) for k=1\n",
    "        # e.g. 784 x 512\n",
    "        self.w1 = torch.empty(self.input_dim, self.hidden_dim).to(device)\n",
    "        stdv1 = 1. / math.sqrt(self.w1.size(1))\n",
    "        self.w1.uniform_(-stdv1, +stdv1)\n",
    "        #  e.g. 512 x 1\n",
    "        self.w2 = torch.empty(self.hidden_dim, self.output_dim).to(device)\n",
    "        stdv2 = 1. / math.sqrt(self.w2.size(1))\n",
    "        self.w2.uniform_(-stdv2, +stdv2)\n",
    "\n",
    "        # BIASES\n",
    "        self.b1 = torch.empty(batch_size, self.hidden_dim).to(device)\n",
    "        self.b1.uniform_(-stdv1, stdv1)\n",
    "        self.b2 = torch.empty(batch_size, self.output_dim).to(device)\n",
    "        self.b2.uniform_(-stdv1, stdv1)\n",
    "\n",
    "\n",
    "    @staticmethod\n",
    "    def softmax(x):\n",
    "        maxes = torch.max(x, 1, keepdim=True)[0]\n",
    "        x_exp = torch.exp(x-maxes)\n",
    "        x_exp_sum = torch.sum(x_exp, 1, keepdim=True)\n",
    "        return x_exp/x_exp_sum\n",
    "\n",
    "    @staticmethod\n",
    "    def sigmoid(s):\n",
    "        return 1 / (1 + torch.exp(-s))\n",
    "\n",
    "    @staticmethod\n",
    "    def reLU(s):\n",
    "        s[s < 0] = 0\n",
    "        return s.float()\n",
    "\n",
    "    @staticmethod\n",
    "    def reLUPrime(s):\n",
    "        s[s < 0] = 0\n",
    "        s[s > 0] = 1\n",
    "        return s.float()\n",
    "\n",
    "    # Forward propagation\n",
    "    def forward(self, X):\n",
    "\n",
    "        X = self.flat(X)\n",
    "        # batch_size changes at the end of the apoch from 128 to 96, this spawned a problem in calculations \n",
    "        self.dynamic_batch_size =  X.shape[0]  \n",
    "        # a_k = W_k @ h_{k-1} + b_k, h_k = f(a_k) where h_0 = X and f is the non linearity, a_2 = y^\n",
    "        self.a1 = torch.matmul(X, self.w1) + self.b1[:self.dynamic_batch_size, :] # e.g. k=1 --> 128x784 @ 784x512 + 128x512 where 128 is batch_size (X.shape[1])\n",
    "        self.h1 = self.reLU(self.a1)       # f is the reLU\n",
    "        self.a2 = torch.matmul(self.h1, self.w2) + self.b2[:self.dynamic_batch_size, :]\n",
    "\n",
    "        if loss_type == \"Cross Entropy\":\n",
    "            y_hat = torch.nn.functional.softmax(self.a2, dim=1)\n",
    "        else:\n",
    "            y_hat = self.sigmoid(self.a2)\n",
    "\n",
    "        return y_hat # some loss functions handle output layer non-linearity\n",
    "\n",
    "    # Backward propagation\n",
    "    def backward(self, X, y, y_hat):\n",
    "        X = self.flat(X)\n",
    "        # gradients of W2 --> dBCE/dW2 = dE/dy^.dy^/da2. da2/dW2 = (y^ - y) h1\n",
    "        if loss_type == \"Cross Entropy\":\n",
    "            self.e = y_hat - torch.nn.functional.one_hot(y) # e - 128x2, h1.t - 512,128 for k=1\n",
    "        else:\n",
    "            self.e = y_hat - y.reshape(len(y),1) # e - 128x1, h1.t - 512,128 for k=1\n",
    "\n",
    "        self.w2_grads = torch.matmul(self.h1.t(), self.e)\n",
    "        # gradients of W1 --> dBCE/dW1 = dE/dh1 . dh1/da1 . da1/dW1\n",
    "        # where dE/dh1 = dE/dy^ . dy^/da2 . da2/dh1\n",
    "        self.dBCE_da1 = torch.matmul(self.e, self.w2.t()) * self.reLUPrime(self.a1) # e - 128x1, w2.t - 1,512 , a1 - 128,512\n",
    "        self.w1_grads = torch.matmul(X.t(), self.dBCE_da1) # x.t - 784,128, dBCE_da1 128,512\n",
    "        # gradients of b2 --> dBCE/db2 = dBCE/dy^. dy^/da2. da2/db2 = (y^-y)*1\n",
    "        self.b2_grads = self.e[:self.dynamic_batch_size, :]\n",
    "        # gradients of b1 --> dBCE/db1 = dBCE/dh1. dh1/da1. da1/db1\n",
    "        # where dBCE/dh1 = dBCE/dy^ . dy^/da2 . da2/dh1\n",
    "        self.b1_grads = self.dBCE_da1[:self.dynamic_batch_size, :]\n",
    "\n",
    "        # Implement SGD here\n",
    "        self.w1 -= self.learning_rate * self.w1_grads\n",
    "        self.w2 -= self.learning_rate * self.w2_grads\n",
    "        self.b1[:self.dynamic_batch_size, :] -= self.learning_rate * self.b1_grads\n",
    "        self.b2[:self.dynamic_batch_size, :] -= self.learning_rate * self.b2_grads\n",
    "\n",
    "    def train(self, X, y):\n",
    "        # Forward propagation\n",
    "        y_hat = self.forward(X)\n",
    "        # Backward propagation and gradient descent\n",
    "        self.backward(X, y, y_hat)"
   ],
   "outputs": [],
   "metadata": {}
  },
  {
   "cell_type": "code",
   "execution_count": 8,
   "source": [
    "k=1\n",
    "device=\"cpu\"\n",
    "loss_type = \"Binary Cross Entropy\"\n",
    "model = MLP_Manual(k, device,batch_size, loss_type)\n",
    "\n",
    "trainLostList, trainAccList, valLossList, valAccList  = train_model_manually(model, k, trainset, testset, loss_type, loss_fn, num_epochs,\n",
    "                                                                             batch_size, validate_model = True, device=device)\n"
   ],
   "outputs": [
    {
     "output_type": "stream",
     "name": "stdout",
     "text": [
      "Epoch 1 completed. Loss - total: 20010.1934 - average: 0.3335; Performance: 0.9557\n",
      "TESTING - loss 690.8201930373907 - performance 0.9768\n",
      "Epoch 2 completed. Loss - total: 3316.9260 - average: 0.0553; Performance: 0.9819\n",
      "TESTING - loss 547.863657400012 - performance 0.9811\n",
      "Epoch 3 completed. Loss - total: 2419.2156 - average: 0.0403; Performance: 0.9877\n",
      "TESTING - loss 480.4453903287649 - performance 0.9840\n",
      "Epoch 4 completed. Loss - total: 1895.4167 - average: 0.0316; Performance: 0.9906\n",
      "TESTING - loss 442.6611929330975 - performance 0.9852\n",
      "Epoch 5 completed. Loss - total: 1516.5449 - average: 0.0253; Performance: 0.9930\n",
      "TESTING - loss 420.0097963921726 - performance 0.9861\n",
      "Epoch 6 completed. Loss - total: 1227.7548 - average: 0.0205; Performance: 0.9945\n",
      "TESTING - loss 408.0433516036719 - performance 0.9866\n",
      "Epoch 7 completed. Loss - total: 1004.3724 - average: 0.0167; Performance: 0.9959\n",
      "TESTING - loss 401.07751335017383 - performance 0.9860\n",
      "Epoch 8 completed. Loss - total: 834.0473 - average: 0.0139; Performance: 0.9972\n",
      "TESTING - loss 391.4948010449298 - performance 0.9866\n",
      "Epoch 9 completed. Loss - total: 703.3768 - average: 0.0117; Performance: 0.9978\n",
      "TESTING - loss 389.01006952067837 - performance 0.9862\n",
      "Epoch 10 completed. Loss - total: 590.4662 - average: 0.0098; Performance: 0.9984\n",
      "TESTING - loss 382.4428520654328 - performance 0.9864\n",
      "Epoch 11 completed. Loss - total: 501.7882 - average: 0.0084; Performance: 0.9988\n",
      "TESTING - loss 385.8752145608887 - performance 0.9860\n",
      "Epoch 12 completed. Loss - total: 428.3318 - average: 0.0071; Performance: 0.9990\n",
      "TESTING - loss 385.45515002822503 - performance 0.9864\n",
      "Epoch 13 completed. Loss - total: 367.8202 - average: 0.0061; Performance: 0.9993\n",
      "TESTING - loss 386.3437689237762 - performance 0.9869\n",
      "Epoch 14 completed. Loss - total: 321.1763 - average: 0.0054; Performance: 0.9995\n",
      "TESTING - loss 385.5598458915483 - performance 0.9868\n",
      "Epoch 15 completed. Loss - total: 280.7851 - average: 0.0047; Performance: 0.9998\n",
      "TESTING - loss 387.87917305296287 - performance 0.9872\n",
      "Epoch 16 completed. Loss - total: 248.7108 - average: 0.0041; Performance: 0.9998\n",
      "TESTING - loss 388.95267760939896 - performance 0.9872\n",
      "Epoch 17 completed. Loss - total: 221.4973 - average: 0.0037; Performance: 0.9999\n",
      "TESTING - loss 389.88217629119754 - performance 0.9872\n",
      "Epoch 18 completed. Loss - total: 199.2767 - average: 0.0033; Performance: 0.9999\n",
      "TESTING - loss 391.73629582172725 - performance 0.9874\n",
      "Epoch 19 completed. Loss - total: 179.5885 - average: 0.0030; Performance: 0.9999\n",
      "TESTING - loss 392.45742409001105 - performance 0.9873\n",
      "Epoch 20 completed. Loss - total: 162.4158 - average: 0.0027; Performance: 1.0000\n",
      "TESTING - loss 394.4312134087086 - performance 0.9873\n"
     ]
    }
   ],
   "metadata": {
    "pycharm": {
     "name": "#%%\n"
    }
   }
  },
  {
   "cell_type": "code",
   "execution_count": 17,
   "source": [
    "k=3\n",
    "device=\"cpu\"\n",
    "loss_type = \"Binary Cross Entropy\"\n",
    "model2 = MLP_Manual(k, device,batch_size, loss_type)\n",
    "\n",
    "trainLostList3, trainAccList3, valLossList3, valAccList3  = train_model_manually(model2, k, trainset, testset, loss_type, loss_fn, num_epochs,\n",
    "                                                                             batch_size, validate_model = True, device=device)"
   ],
   "outputs": [
    {
     "output_type": "stream",
     "name": "stdout",
     "text": [
      "Epoch 1 completed. Loss - total: 54931.1719 - average: 0.9155; Performance: 0.5003\n",
      "TESTING - loss 6918.704738616943 - performance 0.5087\n",
      "Epoch 2 completed. Loss - total: 40778.1250 - average: 0.6796; Performance: 0.5423\n",
      "TESTING - loss 6622.054738998413 - performance 0.5723\n",
      "Epoch 3 completed. Loss - total: 37897.6172 - average: 0.6316; Performance: 0.6192\n",
      "TESTING - loss 6015.85560131073 - performance 0.6613\n",
      "Epoch 4 completed. Loss - total: 35617.6133 - average: 0.5936; Performance: 0.6594\n",
      "TESTING - loss 5738.1581954956055 - performance 0.6777\n",
      "Epoch 5 completed. Loss - total: 34371.6875 - average: 0.5729; Performance: 0.6796\n",
      "TESTING - loss 5580.632762908936 - performance 0.6939\n",
      "Epoch 6 completed. Loss - total: 33809.2617 - average: 0.5635; Performance: 0.6876\n",
      "TESTING - loss 5593.15292263031 - performance 0.6889\n",
      "Epoch 7 completed. Loss - total: 33217.5508 - average: 0.5536; Performance: 0.6976\n",
      "TESTING - loss 5395.530825614929 - performance 0.7078\n",
      "Epoch 8 completed. Loss - total: 32819.0078 - average: 0.5470; Performance: 0.7009\n",
      "TESTING - loss 5400.272536277771 - performance 0.7050\n",
      "Epoch 9 completed. Loss - total: 32623.3320 - average: 0.5437; Performance: 0.7050\n",
      "TESTING - loss 5318.751488685608 - performance 0.7108\n",
      "Epoch 10 completed. Loss - total: 32186.3848 - average: 0.5364; Performance: 0.7084\n",
      "TESTING - loss 5295.45864200592 - performance 0.7154\n",
      "Epoch 11 completed. Loss - total: 31850.6348 - average: 0.5308; Performance: 0.7134\n",
      "TESTING - loss 5274.006697654724 - performance 0.7130\n",
      "Epoch 12 completed. Loss - total: 31675.3379 - average: 0.5279; Performance: 0.7186\n",
      "TESTING - loss 5177.872695922852 - performance 0.7227\n",
      "Epoch 13 completed. Loss - total: 31611.3535 - average: 0.5269; Performance: 0.7187\n",
      "TESTING - loss 5107.190221786499 - performance 0.7359\n",
      "Epoch 14 completed. Loss - total: 31340.5020 - average: 0.5223; Performance: 0.7212\n",
      "TESTING - loss 5167.033990859985 - performance 0.7317\n",
      "Epoch 15 completed. Loss - total: 30888.3809 - average: 0.5148; Performance: 0.7271\n",
      "TESTING - loss 5120.099468231201 - performance 0.7284\n",
      "Epoch 16 completed. Loss - total: 30827.0840 - average: 0.5138; Performance: 0.7286\n",
      "TESTING - loss 5110.2152280807495 - performance 0.7371\n",
      "Epoch 17 completed. Loss - total: 30735.7852 - average: 0.5123; Performance: 0.7310\n",
      "TESTING - loss 4973.121062278748 - performance 0.7376\n",
      "Epoch 18 completed. Loss - total: 30557.6406 - average: 0.5093; Performance: 0.7306\n",
      "TESTING - loss 5037.794530391693 - performance 0.7386\n",
      "Epoch 19 completed. Loss - total: 30581.4531 - average: 0.5097; Performance: 0.7334\n",
      "TESTING - loss 4936.415428161621 - performance 0.7405\n",
      "Epoch 20 completed. Loss - total: 30267.2168 - average: 0.5045; Performance: 0.7368\n",
      "TESTING - loss 5033.307960510254 - performance 0.7374\n"
     ]
    }
   ],
   "metadata": {}
  },
  {
   "cell_type": "code",
   "execution_count": 18,
   "source": [
    "SGD_k1_pytorch = []\n",
    "with open(\"SGD_k1_pytorch.txt\") as f1:\n",
    "    for line in f1:\n",
    "        SGD_k1_pytorch.append(float(line.strip()))\n",
    "\n",
    "SGD_k3_pytorch = []\n",
    "with open(\"SGD_k3_pytorch.txt\") as f2:\n",
    "    for line in f2:\n",
    "        SGD_k3_pytorch.append(float(line.strip()))"
   ],
   "outputs": [],
   "metadata": {}
  },
  {
   "cell_type": "code",
   "execution_count": 21,
   "source": [
    "import matplotlib.pyplot as plt\n",
    "fig, (ax1, ax3) = plt.subplots(1, 2, figsize=(16,8))\n",
    "\n",
    "ax1.plot(range(1,21),SGD_k1_pytorch, color = \"blue\", label = \"BP SGD Pytorch\") \n",
    "ax1.plot(range(1,21),valAccList, color = \"green\", label = \"BP SGD Dogan\")\n",
    "ax1.set_ylim(0.4,1.05)\n",
    "ax1.set_title(\"Test Accuracy k=1\")\n",
    "ax1.set_xlabel(\"Iteration\")\n",
    "ax1.set_ylabel(\"Accuracy\")\n",
    "ax1.set_xticks(range(1,21))\n",
    "ax1.legend()\n",
    "ax1.grid(True)\n",
    "\n",
    "\n",
    "ax3.plot(range(1,21),SGD_k3_pytorch, color = \"blue\", label = \"BP SGD Pytorch\")\n",
    "ax3.plot(range(1,21),valAccList3, color = \"green\", label = \"BP SGD Dogan\")\n",
    "\n",
    "ax3.set_ylim(0.4,1.05)\n",
    "ax3.set_title(\"Test Accuracy k=3\")\n",
    "ax3.set_xlabel(\"Iteration\")\n",
    "ax3.set_ylabel(\"Accuracy\")\n",
    "ax3.set_xticks(range(1,21))\n",
    "ax3.legend()\n",
    "ax3.grid(True)\n",
    "\n",
    "plt.show();"
   ],
   "outputs": [
    {
     "output_type": "display_data",
     "data": {
      "image/png": "[encoded data removed]",
      "text/plain": [
       "<Figure size 1152x576 with 2 Axes>"
      ]
     },
     "metadata": {
      "needs_background": "light"
     }
    }
   ],
   "metadata": {}
  },
  {
   "cell_type": "code",
   "execution_count": null,
   "source": [],
   "outputs": [],
   "metadata": {}
  }
 ],
 "metadata": {
  "colab": {
   "name": "Sahibinden Veri Cekme Full.ipynb",
   "provenance": []
  },
  "interpreter": {
   "hash": "c73b42f4307b5621c20050e2a07bd2e616b471b51e8418e2c366c1833db7b122"
  },
  "kernelspec": {
   "name": "python3",
   "display_name": "Python 3.8.2 64-bit ('base': conda)"
  },
  "language_info": {
   "codemirror_mode": {
    "name": "ipython",
    "version": 3
   },
   "file_extension": ".py",
   "mimetype": "text/x-python",
   "name": "python",
   "nbconvert_exporter": "python",
   "pygments_lexer": "ipython3",
   "version": "3.8.2"
  },
  "toc": {
   "base_numbering": 1,
   "nav_menu": {
    "height": "423.991px",
    "width": "239.29px"
   },
   "number_sections": true,
   "sideBar": true,
   "skip_h1_title": false,
   "title_cell": "Table of Contents",
   "title_sidebar": "Contents",
   "toc_cell": false,
   "toc_position": {},
   "toc_section_display": true,
   "toc_window_display": false
  }
 },
 "nbformat": 4,
 "nbformat_minor": 1
}